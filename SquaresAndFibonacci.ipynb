{
 "cells": [
  {
   "cell_type": "markdown",
   "metadata": {},
   "source": [
    "### Squares with unit tests\n",
    "Write a function that returns a list of numbers, such that xi=i**2, for 1≤i≤n. Make sure it handles the case where n<1 by raising a ValueError."
   ]
  },
  {
   "cell_type": "code",
   "execution_count": 42,
   "metadata": {
    "collapsed": false,
    "scrolled": true
   },
   "outputs": [
    {
     "name": "stderr",
     "output_type": "stream",
     "text": [
      "......"
     ]
    },
    {
     "name": "stdout",
     "output_type": "stream",
     "text": [
      "11 --> [1, 4, 9, 16, 25, 36, 49, 64, 81, 100, 121]\n",
      "1 --> [1]\n",
      "10 --> [1, 4, 9, 16, 25, 36, 49, 64, 81, 100]\n",
      "2 --> [1, 4]\n"
     ]
    },
    {
     "name": "stderr",
     "output_type": "stream",
     "text": [
      "\n",
      "----------------------------------------------------------------------\n",
      "Ran 6 tests in 0.003s\n",
      "\n",
      "OK\n"
     ]
    },
    {
     "data": {
      "text/plain": [
       "<unittest.runner.TextTestResult run=6 errors=0 failures=0>"
      ]
     },
     "execution_count": 42,
     "metadata": {},
     "output_type": "execute_result"
    }
   ],
   "source": [
    "import unittest\n",
    "\n",
    "def squares(n):\n",
    "    if n < 1:\n",
    "        raise ValueError\n",
    "    sq_list = [i**2 for i in range(1,n+1)]\n",
    "    print n, '-->', sq_list\n",
    "    return sq_list\n",
    "\n",
    "class SquaresTest(unittest.TestCase):\n",
    "    def test_neg(self):\n",
    "        self.failUnlessRaises(ValueError, squares, -4)\n",
    "    def test_zero(self):\n",
    "        self.failUnlessRaises(ValueError, squares, 0)\n",
    "    def test_one(self):\n",
    "        self.failUnless([1] == squares(1))\n",
    "    def test_two(self):\n",
    "        self.failUnless([1,4] == squares(2))\n",
    "    def test_ten(self):\n",
    "        self.failUnless([1,4, 9, 16, 25, 36, 49, 64, 81, 100] == squares(10))\n",
    "    def test_eleven(self):\n",
    "        self.failUnlessEqual([1,4, 9, 16, 25, 36, 49, 64, 81, 100, 121], squares(11))\n",
    "        \n",
    "squares_suite = unittest.TestLoader().loadTestsFromTestCase(SquaresTest)\n",
    "unittest.TextTestRunner().run(squares_suite)"
   ]
  },
  {
   "cell_type": "markdown",
   "metadata": {},
   "source": [
    "### Sum the squares\n",
    "Using your squares function, write a function that computes the sum of the squares of the numbers from 1 to n. Your function should call the squares function -- it should NOT reimplement its functionality."
   ]
  },
  {
   "cell_type": "code",
   "execution_count": 43,
   "metadata": {
    "collapsed": false
   },
   "outputs": [
    {
     "name": "stderr",
     "output_type": "stream",
     "text": [
      "...."
     ]
    },
    {
     "name": "stdout",
     "output_type": "stream",
     "text": [
      "11 --> [1, 4, 9, 16, 25, 36, 49, 64, 81, 100, 121]\n",
      "11 --> sum: 506\n",
      "1 --> [1]\n",
      "1 --> sum: 1\n",
      "10 --> [1, 4, 9, 16, 25, 36, 49, 64, 81, 100]\n",
      "10 --> sum: 385\n",
      "2 --> [1, 4]\n",
      "2 --> sum: 5\n"
     ]
    },
    {
     "name": "stderr",
     "output_type": "stream",
     "text": [
      "\n",
      "----------------------------------------------------------------------\n",
      "Ran 4 tests in 0.002s\n",
      "\n",
      "OK\n"
     ]
    },
    {
     "data": {
      "text/plain": [
       "<unittest.runner.TextTestResult run=4 errors=0 failures=0>"
      ]
     },
     "execution_count": 43,
     "metadata": {},
     "output_type": "execute_result"
    }
   ],
   "source": [
    "import unittest\n",
    "\n",
    "def sum_squares(n):\n",
    "    sum = 0\n",
    "    for square in squares(n):\n",
    "        sum += square\n",
    "    print n,'--> sum: %s' % sum\n",
    "    return sum\n",
    "\n",
    "class SumSquaresTest(unittest.TestCase):\n",
    "    def test_ss_one(self):\n",
    "        self.failUnlessEqual(1, sum_squares(1))\n",
    "    def test_ss_two(self):\n",
    "        self.failUnlessEqual(5, sum_squares(2))\n",
    "    def test_ss_ten(self):\n",
    "        self.failUnlessEqual(385, sum_squares(10))\n",
    "    def test_ss_eleven(self):\n",
    "        self.failUnlessEqual(506, sum_squares(11))\n",
    "\n",
    "ss_suite = unittest.TestLoader().loadTestsFromTestCase(SumSquaresTest)\n",
    "unittest.TextTestRunner().run(ss_suite)\n"
   ]
  },
  {
   "cell_type": "markdown",
   "metadata": {},
   "source": [
    "### Fibonacci Recursion"
   ]
  },
  {
   "cell_type": "code",
   "execution_count": 48,
   "metadata": {
    "collapsed": false
   },
   "outputs": [
    {
     "name": "stdout",
     "output_type": "stream",
     "text": [
      "................................ 1 --> 1\n",
      "................................ 0 --> 0\n",
      "............................ 2 --> 1\n",
      "............................ 1 --> 1\n",
      "........................ 3 --> 2\n",
      "............................ 1 --> 1\n",
      "............................ 0 --> 0\n",
      "........................ 2 --> 1\n",
      ".................... 4 --> 3\n",
      "............................ 1 --> 1\n",
      "............................ 0 --> 0\n",
      "........................ 2 --> 1\n",
      "........................ 1 --> 1\n",
      ".................... 3 --> 2\n",
      "................ 5 --> 5\n",
      "............................ 1 --> 1\n",
      "............................ 0 --> 0\n",
      "........................ 2 --> 1\n",
      "........................ 1 --> 1\n",
      ".................... 3 --> 2\n",
      "........................ 1 --> 1\n",
      "........................ 0 --> 0\n",
      ".................... 2 --> 1\n",
      "................ 4 --> 3\n",
      "............ 6 --> 8\n",
      "............................ 1 --> 1\n",
      "............................ 0 --> 0\n",
      "........................ 2 --> 1\n",
      "........................ 1 --> 1\n",
      ".................... 3 --> 2\n",
      "........................ 1 --> 1\n",
      "........................ 0 --> 0\n",
      ".................... 2 --> 1\n",
      "................ 4 --> 3\n",
      "........................ 1 --> 1\n",
      "........................ 0 --> 0\n",
      ".................... 2 --> 1\n",
      ".................... 1 --> 1\n",
      "................ 3 --> 2\n",
      "............ 5 --> 5\n",
      "........ 7 --> 13\n",
      "............................ 1 --> 1\n",
      "............................ 0 --> 0\n",
      "........................ 2 --> 1\n",
      "........................ 1 --> 1\n",
      ".................... 3 --> 2\n",
      "........................ 1 --> 1\n",
      "........................ 0 --> 0\n",
      ".................... 2 --> 1\n",
      "................ 4 --> 3\n",
      "........................ 1 --> 1\n",
      "........................ 0 --> 0\n",
      ".................... 2 --> 1\n",
      ".................... 1 --> 1\n",
      "................ 3 --> 2\n",
      "............ 5 --> 5\n",
      "........................ 1 --> 1\n",
      "........................ 0 --> 0\n",
      ".................... 2 --> 1\n",
      ".................... 1 --> 1\n",
      "................ 3 --> 2\n",
      ".................... 1 --> 1\n",
      ".................... 0 --> 0\n",
      "................ 2 --> 1\n",
      "............ 4 --> 3\n",
      "........ 6 --> 8\n",
      ".... 8 --> 21\n",
      "Answer: 21\n",
      "Calls : 67\n"
     ]
    }
   ],
   "source": [
    "calls = 0\n",
    "def fib(x, i):\n",
    "    '''\n",
    "    Recursively determine the xth fibonacci number.\n",
    "    i is used only for the indentation which represents the recursive\n",
    "    depth.\n",
    "    '''\n",
    "    global calls\n",
    "    calls += 1\n",
    "    i += 1\n",
    "    if x in [0,1]:\n",
    "        print \".\"*4*i, '%d --> %d' % (x, x)\n",
    "        return x\n",
    "    f1 = fib(x-1, i)\n",
    "    f2 = fib(x-2, i)\n",
    "    print \".\"*4*i, '%d --> %d' % (x, f1+f2)\n",
    "    return f1 + f2\n",
    "\n",
    "answer = fib(8,0)\n",
    "print 'Answer:', answer\n",
    "print 'Calls :', calls"
   ]
  }
 ],
 "metadata": {
  "kernelspec": {
   "display_name": "Python 2",
   "language": "python",
   "name": "python2"
  },
  "language_info": {
   "codemirror_mode": {
    "name": "ipython",
    "version": 2
   },
   "file_extension": ".py",
   "mimetype": "text/x-python",
   "name": "python",
   "nbconvert_exporter": "python",
   "pygments_lexer": "ipython2",
   "version": "2.7.6"
  }
 },
 "nbformat": 4,
 "nbformat_minor": 0
}
