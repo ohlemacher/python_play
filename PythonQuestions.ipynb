{
 "cells": [
  {
   "cell_type": "markdown",
   "metadata": {},
   "source": [
    "### Python closures and strange behaviors\n",
    "A nested function can access (ro by default) the variables of the enclosing scope. To modify them, the keyword _nonlocal_ is required.\n",
    "\n",
    "The error below is due to 'late binding' and makes me wonder why one would use this. Supposedly, it prevents the need for a global variable. Personally, I would rather use a class. An exception is if one is writing decorators.\n",
    "\n",
    "This is not caused by the lambda.  A nested (named) function inside of mul() would have the same problem."
   ]
  },
  {
   "cell_type": "code",
   "execution_count": 73,
   "metadata": {
    "collapsed": false
   },
   "outputs": [
    {
     "name": "stdout",
     "output_type": "stream",
     "text": [
      "Expected [0, 2, 4, 6]\n",
      "Actual   [6, 6, 6, 6]\n"
     ]
    }
   ],
   "source": [
    "def mul_broke(count):\n",
    "    return [lambda x: x*i for i in range(count)]\n",
    "\n",
    "print 'Expected [0, 2, 4, 6]'\n",
    "print 'Actual  ', [m(2) for m in mul_broke(4)]"
   ]
  },
  {
   "cell_type": "code",
   "execution_count": 70,
   "metadata": {
    "collapsed": false
   },
   "outputs": [
    {
     "name": "stdout",
     "output_type": "stream",
     "text": [
      "Expected [0, 2, 4, 6]\n",
      "Actual   [0, 2, 4, 6]\n"
     ]
    }
   ],
   "source": [
    "def mul(count):\n",
    "    '''\n",
    "    Due to Python’s aforementioned behavior concerning evaluating\n",
    "    default arguments to functions, you can create a closure that\n",
    "    binds immediately to its arguments by using a default arg.\n",
    "    '''\n",
    "    return [lambda x, i=i: x*i for i in range(count)]\n",
    "\n",
    "print 'Expected [0, 2, 4, 6]'\n",
    "print 'Actual  ', [m(2) for m in mul(4)]"
   ]
  },
  {
   "cell_type": "markdown",
   "metadata": {},
   "source": [
    "More about closures"
   ]
  },
  {
   "cell_type": "code",
   "execution_count": null,
   "metadata": {
    "collapsed": true
   },
   "outputs": [],
   "source": [
    "def print_msg(msg):\n",
    "    def printer():\n",
    "        print(msg)  # Has access to outer msg\n",
    "    return printer  # Interesting!"
   ]
  },
  {
   "cell_type": "code",
   "execution_count": 54,
   "metadata": {
    "collapsed": false
   },
   "outputs": [
    {
     "name": "stdout",
     "output_type": "stream",
     "text": [
      "First\n"
     ]
    }
   ],
   "source": [
    "print_msg('First')()"
   ]
  },
  {
   "cell_type": "markdown",
   "metadata": {},
   "source": [
    "Lets bind a variable  _another_ to the returned function _printer()_. Strangely, it remembered the value of msg. This is a closure."
   ]
  },
  {
   "cell_type": "code",
   "execution_count": 55,
   "metadata": {
    "collapsed": false
   },
   "outputs": [
    {
     "name": "stdout",
     "output_type": "stream",
     "text": [
      "Second\n"
     ]
    }
   ],
   "source": [
    "another = print_msg('Second')\n",
    "another()"
   ]
  },
  {
   "cell_type": "markdown",
   "metadata": {},
   "source": [
    "It does not matter if _msg_ goes out of scope or the function is deleted."
   ]
  },
  {
   "cell_type": "code",
   "execution_count": 56,
   "metadata": {
    "collapsed": false
   },
   "outputs": [
    {
     "name": "stdout",
     "output_type": "stream",
     "text": [
      "Second\n"
     ]
    }
   ],
   "source": [
    "del print_msg\n",
    "another()"
   ]
  },
  {
   "cell_type": "markdown",
   "metadata": {},
   "source": [
    "As seen from the above example, we have a closure in Python when a nested function references a value in its enclosing scope. The criteria that must be met to create closure in Python are summarized in the following points.\n",
    "\n",
    "- We must have a nested function (function inside a function). A lambda is a function, although anonymous.\n",
    "- The nested function must refer to a value defined in the enclosing function.\n",
    "- The enclosing function must return the nested function."
   ]
  },
  {
   "cell_type": "markdown",
   "metadata": {},
   "source": [
    "### Python class inheritance\n",
    "Python class member variables are stored in a dict. If a subclass' member variable is not found in this dict, the parent class dict is searched. The child inherits the state of its parent. This is very different from C++."
   ]
  },
  {
   "cell_type": "code",
   "execution_count": 19,
   "metadata": {
    "collapsed": false
   },
   "outputs": [
    {
     "name": "stdout",
     "output_type": "stream",
     "text": [
      "P A B\n",
      "-----\n",
      "1 1 1\n",
      "1 2 1 <-- A gets its own x via assignment\n",
      "3 2 3 <-- B is still sharing Ps x\n"
     ]
    }
   ],
   "source": [
    "class P(object):\n",
    "    x = 1\n",
    "    \n",
    "class A(P):\n",
    "    pass\n",
    "\n",
    "class B(P):\n",
    "    pass\n",
    "\n",
    "print 'P A B\\n-----'\n",
    "print P.x, A.x, B.x\n",
    "A.x = 2\n",
    "print P.x, A.x, B.x, '<-- A gets its own x via assignment'\n",
    "P.x = 3\n",
    "print P.x, A.x, B.x, '<-- B is still sharing Ps x'\n"
   ]
  },
  {
   "cell_type": "markdown",
   "metadata": {},
   "source": [
    "### Never use empty containers as default parameters\n",
    "The [ ] in bar(x, [ ]) is created when the function is defined.  It is continues to exist and is reused (even if modified) with each call of bar() that relies on the default my_list."
   ]
  },
  {
   "cell_type": "code",
   "execution_count": 47,
   "metadata": {
    "collapsed": false
   },
   "outputs": [
    {
     "name": "stdout",
     "output_type": "stream",
     "text": [
      "foo (correct)\n",
      "-------------\n",
      "['s'] ['t'] ['u']\n",
      "\n",
      "bar (broken)\n",
      "------------\n",
      "['s'] ['s', 't'] ['s', 't', 'u']\n"
     ]
    }
   ],
   "source": [
    "def foo(x, my_list=None):\n",
    "    if my_list is None:\n",
    "        my_list = []\n",
    "    my_list.append(x)\n",
    "    return my_list\n",
    "    \n",
    "print 'foo (correct)\\n-------------'\n",
    "print foo('s'), foo('t'), foo('u')\n",
    "\n",
    "def bar(x, my_list=[]):\n",
    "    my_list.append(x)\n",
    "    return my_list\n",
    " \n",
    "print '\\nbar (broken)\\n------------'\n",
    "print bar('s'), bar('t'), bar('u')"
   ]
  },
  {
   "cell_type": "markdown",
   "metadata": {},
   "source": [
    "### Fun with lists"
   ]
  },
  {
   "cell_type": "code",
   "execution_count": 33,
   "metadata": {
    "collapsed": false
   },
   "outputs": [
    {
     "name": "stdout",
     "output_type": "stream",
     "text": [
      "[[], [], [], [], []]\n",
      "[[10], [10], [10], [10], [10]]\n",
      "[[10, 20], [10, 20], [10, 20], [10, 20], [10, 20]]\n",
      "[[10, 20], [10, 20], [10, 20], [10, 20], [10, 20], 30]\n"
     ]
    }
   ],
   "source": [
    "import pprint\n",
    "L = [[]] * 5  # Creates a list of 5 references to the same [].\n",
    "print L\n",
    "L[0].append(10) # Append to the first, but they are all the same thing.\n",
    "print L\n",
    "L[1].append(20) # Append to the second, but still the same.\n",
    "print L\n",
    "L.append(30)  # Append to the outer list.\n",
    "print L\n"
   ]
  },
  {
   "cell_type": "markdown",
   "metadata": {},
   "source": [
    "### In one line of code, find the even numbers in even indices"
   ]
  },
  {
   "cell_type": "code",
   "execution_count": 49,
   "metadata": {
    "collapsed": false
   },
   "outputs": [
    {
     "name": "stdout",
     "output_type": "stream",
     "text": [
      "[1, 2, 4, 5, 6, 8, -2] --> [4, 6, -2]\n",
      "[1, 2, 4, 5, 6, 8, -2] --> [4, 6, -2]\n"
     ]
    }
   ],
   "source": [
    "L = [1,2,4,5,6,8,-2]\n",
    "#    0,1,2,3,4,5,6\n",
    "# Soln 1 with enumerate\n",
    "L_enum = [i for n,i in enumerate(L) if (i%2 == 0 and n%2 == 0)]\n",
    "# Soln 2 with slicing\n",
    "L_sliced = [i for i in L[::2] if i%2 == 0]\n",
    "print L, '-->', L_enum\n",
    "print L, '-->', L_sliced"
   ]
  },
  {
   "cell_type": "markdown",
   "metadata": {},
   "source": [
    "### An implementation oddity\n",
    "In cpython, numbers <= 255 are cached *objects*"
   ]
  },
  {
   "cell_type": "code",
   "execution_count": 42,
   "metadata": {
    "collapsed": false
   },
   "outputs": [
    {
     "name": "stdout",
     "output_type": "stream",
     "text": [
      "True\n",
      "False\n"
     ]
    }
   ],
   "source": [
    "a = 255\n",
    "b = 255\n",
    "print a is b\n",
    "c = 512\n",
    "d = 512\n",
    "print c is d"
   ]
  },
  {
   "cell_type": "markdown",
   "metadata": {},
   "source": [
    "### List assignment is a reference"
   ]
  },
  {
   "cell_type": "code",
   "execution_count": 44,
   "metadata": {
    "collapsed": false
   },
   "outputs": [
    {
     "name": "stdout",
     "output_type": "stream",
     "text": [
      "i [1, 2, 3, 4]\n",
      "j [1, 2, 3]\n",
      "k [1, 2, 3, 4]\n"
     ]
    }
   ],
   "source": [
    "i = [1,2,3]\n",
    "j = list(i)\n",
    "k = i\n",
    "i.append(4)\n",
    "print 'i', i\n",
    "print 'j', j\n",
    "print 'k', k"
   ]
  },
  {
   "cell_type": "markdown",
   "metadata": {},
   "source": [
    "### String spaces --> %20s using RE sub()"
   ]
  },
  {
   "cell_type": "code",
   "execution_count": 46,
   "metadata": {
    "collapsed": false
   },
   "outputs": [
    {
     "name": "stderr",
     "output_type": "stream",
     "text": [
      "......\n",
      "----------------------------------------------------------------------\n",
      "Ran 6 tests in 0.003s\n",
      "\n",
      "OK\n"
     ]
    },
    {
     "data": {
      "text/plain": [
       "<unittest.runner.TextTestResult run=6 errors=0 failures=0>"
      ]
     },
     "execution_count": 46,
     "metadata": {},
     "output_type": "execute_result"
    }
   ],
   "source": [
    "import re\n",
    "import unittest\n",
    "\n",
    "def space20(strg):\n",
    "    '''Replace \" \" with \"%20\"'''\n",
    "    space_to_20 = re.compile(r' ')\n",
    "    return space_to_20.sub(r'%20', strg)\n",
    "\n",
    "class Space20Test(unittest.TestCase):\n",
    "    def test_zero_len(self):\n",
    "        self.failUnlessEqual('', space20(''))\n",
    "    def test_match_nothing(self):\n",
    "        self.failUnlessEqual('abc;def', space20('abc;def'))\n",
    "    def test_match_at_start(self):\n",
    "        self.failUnlessEqual('%20abc', space20(' abc'))\n",
    "    def test_match_in_middle(self):\n",
    "        self.failUnlessEqual('abc%20def', space20('abc def'))\n",
    "    def test_match_at_end(self):\n",
    "        self.failUnlessEqual('abc%20', space20('abc '))\n",
    "    def test_match_complex(self):\n",
    "        self.failUnlessEqual('%20%20abc%20%20def%20%20',\n",
    "                             space20('  abc  def  '))\n",
    "            \n",
    "squares_suite = unittest.TestLoader().loadTestsFromTestCase(Space20Test)\n",
    "unittest.TextTestRunner().run(squares_suite)"
   ]
  }
 ],
 "metadata": {
  "kernelspec": {
   "display_name": "Python 2",
   "language": "python",
   "name": "python2"
  },
  "language_info": {
   "codemirror_mode": {
    "name": "ipython",
    "version": 2
   },
   "file_extension": ".py",
   "mimetype": "text/x-python",
   "name": "python",
   "nbconvert_exporter": "python",
   "pygments_lexer": "ipython2",
   "version": "2.7.6"
  }
 },
 "nbformat": 4,
 "nbformat_minor": 0
}
